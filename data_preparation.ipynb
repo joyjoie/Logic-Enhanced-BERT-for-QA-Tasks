{
 "cells": [
  {
   "cell_type": "code",
   "execution_count": null,
   "metadata": {},
   "outputs": [],
   "source": [
    "from datasets import load_dataset\n",
    "import pandas as pd\n",
    "import re\n",
    "\n",
    "from zhipuai import ZhipuAI\n",
    "\n",
    "client = ZhipuAI(api_key=\"\") # APIKey\n",
    "def call_llm_api(prompt, model=\"glm-4-air\", temperature=0.5):\n",
    "    response = client.chat.completions.create(\n",
    "    model = model,\n",
    "    temperature = temperature,\n",
    "    messages=[\n",
    "        {\n",
    "                    \"role\": \"system\",\n",
    "                    \"content\": (\n",
    "                        \"You are a helpful assistant. Translate the following question into predicate logic, but reserve the meaningful word here, and use the format like ∃x Invented(x, Bulb). Respond as concisely as possible.\"\n",
    "                    ),\n",
    "                },\n",
    "        {\"role\": \"user\", \"content\": prompt},\n",
    "    ],\n",
    ")\n",
    "    return (response.choices[0].message.content)\n",
    "\n",
    "# Load the dataset\n",
    "ds = load_dataset(\"lucadiliello/triviaqa\")\n",
    "\n",
    "df = pd.DataFrame(ds['train'][:5500])\n",
    "\n",
    "# Filter out rows with more than one question mark\n",
    "df = df[~df['question'].str.contains(r'\\?.*\\?')]\n",
    "\n",
    "# Ensure that each remaining row has only one question mark\n",
    "df['question'] = df['question'].str.replace(r'\\?+', '?', regex=True)\n",
    "\n",
    "def process_questions(df, output_path):\n",
    "    for index, row in df.iterrows():\n",
    "        logical_form = call_llm_api(row['question'])\n",
    "        df.at[index, 'logical_form'] = logical_form\n",
    "        df.to_csv(output_path,  encoding='utf-8-sig', index=False)\n",
    "\n",
    "output_csv_path = 'train.csv'\n",
    "\n",
    "process_questions(df, output_csv_path)"
   ]
  }
 ],
 "metadata": {
  "language_info": {
   "name": "python"
  }
 },
 "nbformat": 4,
 "nbformat_minor": 2
}
